{
 "cells": [
  {
   "cell_type": "code",
   "execution_count": 47,
   "id": "d4f4ac75-6aaf-40ce-be03-b072b1bdc3e4",
   "metadata": {
    "scrolled": true,
    "tags": []
   },
   "outputs": [],
   "source": [
    "# T1 a)"
   ]
  },
  {
   "cell_type": "code",
   "execution_count": 83,
   "id": "0eecd519-572f-4d0e-bdea-1c3e4011569d",
   "metadata": {},
   "outputs": [],
   "source": [
    "import random\n",
    "import numpy as np\n",
    "\n",
    "n = 50"
   ]
  },
  {
   "cell_type": "code",
   "execution_count": 9,
   "id": "80d2aede-551e-47c1-ac0e-8d537e5da896",
   "metadata": {},
   "outputs": [
    {
     "data": {
      "text/plain": [
       "array([[-4.90500084e-01,  3.76030706e-01, -2.67853918e-01,\n",
       "        -1.49043792e-01, -9.59881157e-01, -1.96197538e+00],\n",
       "       [-7.86281520e-01, -2.85320739e-01,  5.34453123e-01,\n",
       "        -8.15405936e-01,  3.95929870e-01, -1.19760677e+00],\n",
       "       [ 8.53398743e-01, -8.43242355e-01, -9.18275302e-02,\n",
       "        -9.26427909e-02,  8.71686116e-01,  5.68255794e+00],\n",
       "       [ 2.28257691e-01, -9.72971554e-01,  4.79773649e-01,\n",
       "        -2.34841577e-01, -1.45539551e-01,  4.34484744e+00],\n",
       "       [-2.52233270e-01,  5.26200351e-01, -7.66295586e-01,\n",
       "        -9.12988514e-01,  8.27153059e-01, -2.41374479e+00],\n",
       "       [ 5.26952496e-01,  2.72588699e-01,  8.11540923e-01,\n",
       "         4.86219372e-01,  6.05134957e-01,  5.00078317e+00],\n",
       "       [-5.12905393e-01,  3.31653802e-01, -6.95638089e-01,\n",
       "        -3.81600200e-02,  1.50858972e-01, -8.01022321e-01],\n",
       "       [ 1.85080736e-01, -2.25678051e-01, -1.17507061e-01,\n",
       "         6.04327599e-01, -1.67772627e-02,  4.58067653e+00],\n",
       "       [ 8.57629502e-01,  4.70532551e-02, -4.47761622e-01,\n",
       "        -4.29623452e-01, -3.78656827e-01,  3.24770379e+00],\n",
       "       [ 3.76491197e-01, -4.05478681e-02,  9.57738696e-01,\n",
       "        -6.14624269e-01, -5.00683191e-01,  4.53593546e+00],\n",
       "       [ 5.36535297e-01, -2.44457337e-01,  5.99212339e-01,\n",
       "        -8.02287869e-01, -5.88887561e-01,  6.44261942e+00],\n",
       "       [ 4.70614908e-02,  7.11765389e-01, -1.22797473e-01,\n",
       "         4.26341637e-02,  4.26902643e-03,  3.39026661e+00],\n",
       "       [-3.39419551e-01, -9.86564873e-01, -3.51754601e-01,\n",
       "         6.44467401e-02,  2.28058221e-01,  1.99469561e+00],\n",
       "       [ 4.80127001e-01, -2.15642770e-01, -4.19157694e-01,\n",
       "         1.66497525e-01,  5.69789753e-01,  4.31841968e+00],\n",
       "       [ 1.16425792e-01,  4.14503057e-01,  5.08306862e-01,\n",
       "         4.62238470e-01,  8.92586735e-01,  1.03896864e+00],\n",
       "       [ 5.40004147e-01,  8.91384784e-01, -5.22055567e-01,\n",
       "        -4.74352829e-01, -8.35417712e-01,  3.30278283e+00],\n",
       "       [-9.38930083e-01, -2.54382917e-01, -1.04435505e-01,\n",
       "         7.92818155e-01,  9.53682936e-02, -1.36356317e-01],\n",
       "       [-5.50202979e-01, -8.43608579e-01, -5.62020810e-04,\n",
       "         4.35944994e-01, -4.15550229e-01, -3.42223662e-01],\n",
       "       [ 1.81954457e-01,  3.66090620e-01,  3.72616511e-01,\n",
       "        -8.39657121e-01,  1.08038959e-01,  4.47681081e-01],\n",
       "       [-3.48581412e-01,  5.30793498e-01, -1.54833881e-01,\n",
       "         7.61349402e-01, -5.12121984e-01,  2.39422842e+00],\n",
       "       [-1.15257720e-01, -7.08318670e-01,  2.05799437e-02,\n",
       "        -1.45555116e-01, -1.75711585e-01,  4.14218097e+00],\n",
       "       [ 7.16354779e-01, -4.21533636e-02, -1.25604174e-01,\n",
       "         8.63812453e-01, -5.35721143e-01,  4.33329139e+00],\n",
       "       [-2.08345079e-01,  2.47057792e-01,  1.32900521e-01,\n",
       "        -1.74807073e-01, -4.28745869e-01,  3.06639069e+00],\n",
       "       [ 7.31105848e-01, -7.93788083e-01, -1.28670107e-01,\n",
       "         7.65611392e-01, -7.46195979e-01,  7.76091391e+00],\n",
       "       [-1.34454551e-01,  3.78031742e-01, -5.31523047e-01,\n",
       "        -2.68985045e-02,  2.11157518e-01, -5.72493438e-01],\n",
       "       [ 3.44012380e-01,  7.84134992e-01, -4.96955334e-02,\n",
       "         1.36294200e-01,  7.08936146e-01,  1.47227620e+00],\n",
       "       [-7.63555896e-01, -6.96691558e-01,  8.18434586e-01,\n",
       "         9.51022261e-01,  4.02544518e-01,  3.38845346e+00],\n",
       "       [-9.77216377e-01, -3.88039158e-01, -9.26026833e-01,\n",
       "        -1.86170382e-01, -4.26372526e-01, -2.22905388e+00],\n",
       "       [-6.76320293e-01, -4.06287421e-01,  7.14559877e-01,\n",
       "         9.18002722e-01,  4.18669231e-02,  2.31361610e+00],\n",
       "       [ 3.67453865e-01, -5.15566192e-01, -1.09127635e-01,\n",
       "        -4.83533382e-01,  4.83999181e-01,  5.27696796e+00],\n",
       "       [-4.62868406e-01, -1.46302109e-01,  6.65187842e-01,\n",
       "         3.53483673e-01, -5.89303550e-01,  2.26476633e+00],\n",
       "       [-5.95800965e-01, -9.93943087e-01,  4.98336244e-01,\n",
       "         3.72719551e-01, -6.43238241e-01,  2.62534387e+00],\n",
       "       [-8.57254929e-01,  3.92921484e-01,  9.58453498e-01,\n",
       "        -7.29964586e-01, -2.38824663e-01, -7.81840731e-01],\n",
       "       [-2.02919764e-01,  4.85162579e-01, -6.22351776e-01,\n",
       "         9.28713788e-01, -2.24278179e-01,  4.10367539e+00],\n",
       "       [ 2.03972012e-01, -2.35525915e-01, -4.35697323e-01,\n",
       "        -1.00479857e-01,  6.17972398e-01,  2.46271083e-01],\n",
       "       [ 6.53277111e-01, -5.36923224e-01, -1.02255910e-01,\n",
       "        -4.73589343e-01,  4.41051818e-01,  4.80610614e+00],\n",
       "       [-9.24270443e-01, -7.13998800e-01, -2.10374160e-02,\n",
       "        -2.27739724e-01, -3.08826768e-01,  9.95625823e-02],\n",
       "       [ 7.20102878e-01, -3.15929910e-01,  9.43485803e-01,\n",
       "        -8.30085067e-01,  6.58657028e-01,  4.26288113e+00],\n",
       "       [-3.31252005e-01, -5.35050288e-01,  1.76965761e-01,\n",
       "         3.86222399e-01,  2.26152141e-01,  1.82925684e+00],\n",
       "       [-2.35816923e-01,  8.38851874e-01,  9.43824875e-01,\n",
       "         2.43677263e-01, -1.76688778e-01,  2.09254383e-01],\n",
       "       [ 7.01059668e-01,  6.26133478e-01, -7.54963678e-01,\n",
       "        -5.99824287e-01,  3.48657602e-01,  7.58647800e-01],\n",
       "       [-8.11737988e-01, -1.69489924e-01,  5.92225322e-02,\n",
       "        -5.57554833e-01,  5.75413408e-01, -2.28191718e+00],\n",
       "       [-3.21047853e-01,  2.80241805e-01,  1.08647196e-01,\n",
       "         1.47576061e-01,  1.86597479e-01,  1.79367409e+00],\n",
       "       [ 8.75325097e-01,  9.21708113e-01, -6.65268541e-01,\n",
       "         2.53583588e-01, -1.85892485e-01,  9.05540150e-01],\n",
       "       [ 6.95933005e-01,  8.20493621e-02, -5.92883164e-02,\n",
       "        -8.84121233e-01, -5.79865769e-01,  2.61330420e+00],\n",
       "       [-4.07560865e-01,  8.20335552e-01, -6.06349939e-01,\n",
       "         1.63301155e-02, -8.78888049e-01, -2.26244291e+00],\n",
       "       [-3.83460563e-01,  6.82740885e-01, -9.49770523e-01,\n",
       "        -8.36497024e-02, -5.17146324e-01, -2.35309470e+00],\n",
       "       [-3.87192003e-01,  8.79544830e-01, -4.97605076e-01,\n",
       "        -7.55646127e-01, -6.09072215e-02, -3.45943941e+00],\n",
       "       [-9.19415594e-02, -1.50803214e-01,  4.64289473e-01,\n",
       "         1.00595511e-01,  3.58117212e-01,  2.49012539e+00],\n",
       "       [-5.45165729e-01, -1.57241112e-01, -5.63354661e-01,\n",
       "         3.25007706e-01,  5.00849328e-01, -1.03429660e+00]])"
      ]
     },
     "execution_count": 9,
     "metadata": {},
     "output_type": "execute_result"
    }
   ],
   "source": [
    "Xn = []\n",
    "n = 50\n",
    "\n",
    "for i in range(n):\n",
    "    X = []\n",
    "    for k in range(5):\n",
    "        y = random.uniform(0,1)\n",
    "        x = 2*y -1\n",
    "        X.append(x)\n",
    "    x = np.random.normal(loc = 2+3*X[0]-2*X[1]+X[2]+X[3]-X[4], \n",
    "                         scale = 1.5, size=1)\n",
    "    x = x[0]\n",
    "    X.append(x)\n",
    "    Xn.append(X)\n",
    "Xn = np.array(Xn)\n",
    "Xn"
   ]
  },
  {
   "cell_type": "code",
   "execution_count": 84,
   "id": "fe3ccdf0-4602-4dfb-b378-0cefbb1d70ed",
   "metadata": {},
   "outputs": [],
   "source": [
    "Xn = np.array([[-4.90500084e-01,  3.76030706e-01, -2.67853918e-01,\n",
    "        -1.49043792e-01, -9.59881157e-01, -1.96197538e+00],\n",
    "       [-7.86281520e-01, -2.85320739e-01,  5.34453123e-01,\n",
    "        -8.15405936e-01,  3.95929870e-01, -1.19760677e+00],\n",
    "       [ 8.53398743e-01, -8.43242355e-01, -9.18275302e-02,\n",
    "        -9.26427909e-02,  8.71686116e-01,  5.68255794e+00],\n",
    "       [ 2.28257691e-01, -9.72971554e-01,  4.79773649e-01,\n",
    "        -2.34841577e-01, -1.45539551e-01,  4.34484744e+00],\n",
    "       [-2.52233270e-01,  5.26200351e-01, -7.66295586e-01,\n",
    "        -9.12988514e-01,  8.27153059e-01, -2.41374479e+00],\n",
    "       [ 5.26952496e-01,  2.72588699e-01,  8.11540923e-01,\n",
    "         4.86219372e-01,  6.05134957e-01,  5.00078317e+00],\n",
    "       [-5.12905393e-01,  3.31653802e-01, -6.95638089e-01,\n",
    "        -3.81600200e-02,  1.50858972e-01, -8.01022321e-01],\n",
    "       [ 1.85080736e-01, -2.25678051e-01, -1.17507061e-01,\n",
    "         6.04327599e-01, -1.67772627e-02,  4.58067653e+00],\n",
    "       [ 8.57629502e-01,  4.70532551e-02, -4.47761622e-01,\n",
    "        -4.29623452e-01, -3.78656827e-01,  3.24770379e+00],\n",
    "       [ 3.76491197e-01, -4.05478681e-02,  9.57738696e-01,\n",
    "        -6.14624269e-01, -5.00683191e-01,  4.53593546e+00],\n",
    "       [ 5.36535297e-01, -2.44457337e-01,  5.99212339e-01,\n",
    "        -8.02287869e-01, -5.88887561e-01,  6.44261942e+00],\n",
    "       [ 4.70614908e-02,  7.11765389e-01, -1.22797473e-01,\n",
    "         4.26341637e-02,  4.26902643e-03,  3.39026661e+00],\n",
    "       [-3.39419551e-01, -9.86564873e-01, -3.51754601e-01,\n",
    "         6.44467401e-02,  2.28058221e-01,  1.99469561e+00],\n",
    "       [ 4.80127001e-01, -2.15642770e-01, -4.19157694e-01,\n",
    "         1.66497525e-01,  5.69789753e-01,  4.31841968e+00],\n",
    "       [ 1.16425792e-01,  4.14503057e-01,  5.08306862e-01,\n",
    "         4.62238470e-01,  8.92586735e-01,  1.03896864e+00],\n",
    "       [ 5.40004147e-01,  8.91384784e-01, -5.22055567e-01,\n",
    "        -4.74352829e-01, -8.35417712e-01,  3.30278283e+00],\n",
    "       [-9.38930083e-01, -2.54382917e-01, -1.04435505e-01,\n",
    "         7.92818155e-01,  9.53682936e-02, -1.36356317e-01],\n",
    "       [-5.50202979e-01, -8.43608579e-01, -5.62020810e-04,\n",
    "         4.35944994e-01, -4.15550229e-01, -3.42223662e-01],\n",
    "       [ 1.81954457e-01,  3.66090620e-01,  3.72616511e-01,\n",
    "        -8.39657121e-01,  1.08038959e-01,  4.47681081e-01],\n",
    "       [-3.48581412e-01,  5.30793498e-01, -1.54833881e-01,\n",
    "         7.61349402e-01, -5.12121984e-01,  2.39422842e+00],\n",
    "       [-1.15257720e-01, -7.08318670e-01,  2.05799437e-02,\n",
    "        -1.45555116e-01, -1.75711585e-01,  4.14218097e+00],\n",
    "       [ 7.16354779e-01, -4.21533636e-02, -1.25604174e-01,\n",
    "         8.63812453e-01, -5.35721143e-01,  4.33329139e+00],\n",
    "       [-2.08345079e-01,  2.47057792e-01,  1.32900521e-01,\n",
    "        -1.74807073e-01, -4.28745869e-01,  3.06639069e+00],\n",
    "       [ 7.31105848e-01, -7.93788083e-01, -1.28670107e-01,\n",
    "         7.65611392e-01, -7.46195979e-01,  7.76091391e+00],\n",
    "       [-1.34454551e-01,  3.78031742e-01, -5.31523047e-01,\n",
    "        -2.68985045e-02,  2.11157518e-01, -5.72493438e-01],\n",
    "       [ 3.44012380e-01,  7.84134992e-01, -4.96955334e-02,\n",
    "         1.36294200e-01,  7.08936146e-01,  1.47227620e+00],\n",
    "       [-7.63555896e-01, -6.96691558e-01,  8.18434586e-01,\n",
    "         9.51022261e-01,  4.02544518e-01,  3.38845346e+00],\n",
    "       [-9.77216377e-01, -3.88039158e-01, -9.26026833e-01,\n",
    "        -1.86170382e-01, -4.26372526e-01, -2.22905388e+00],\n",
    "       [-6.76320293e-01, -4.06287421e-01,  7.14559877e-01,\n",
    "         9.18002722e-01,  4.18669231e-02,  2.31361610e+00],\n",
    "       [ 3.67453865e-01, -5.15566192e-01, -1.09127635e-01,\n",
    "        -4.83533382e-01,  4.83999181e-01,  5.27696796e+00],\n",
    "       [-4.62868406e-01, -1.46302109e-01,  6.65187842e-01,\n",
    "         3.53483673e-01, -5.89303550e-01,  2.26476633e+00],\n",
    "       [-5.95800965e-01, -9.93943087e-01,  4.98336244e-01,\n",
    "         3.72719551e-01, -6.43238241e-01,  2.62534387e+00],\n",
    "       [-8.57254929e-01,  3.92921484e-01,  9.58453498e-01,\n",
    "        -7.29964586e-01, -2.38824663e-01, -7.81840731e-01],\n",
    "       [-2.02919764e-01,  4.85162579e-01, -6.22351776e-01,\n",
    "         9.28713788e-01, -2.24278179e-01,  4.10367539e+00],\n",
    "       [ 2.03972012e-01, -2.35525915e-01, -4.35697323e-01,\n",
    "        -1.00479857e-01,  6.17972398e-01,  2.46271083e-01],\n",
    "       [ 6.53277111e-01, -5.36923224e-01, -1.02255910e-01,\n",
    "        -4.73589343e-01,  4.41051818e-01,  4.80610614e+00],\n",
    "       [-9.24270443e-01, -7.13998800e-01, -2.10374160e-02,\n",
    "        -2.27739724e-01, -3.08826768e-01,  9.95625823e-02],\n",
    "       [ 7.20102878e-01, -3.15929910e-01,  9.43485803e-01,\n",
    "        -8.30085067e-01,  6.58657028e-01,  4.26288113e+00],\n",
    "       [-3.31252005e-01, -5.35050288e-01,  1.76965761e-01,\n",
    "         3.86222399e-01,  2.26152141e-01,  1.82925684e+00],\n",
    "       [-2.35816923e-01,  8.38851874e-01,  9.43824875e-01,\n",
    "         2.43677263e-01, -1.76688778e-01,  2.09254383e-01],\n",
    "       [ 7.01059668e-01,  6.26133478e-01, -7.54963678e-01,\n",
    "        -5.99824287e-01,  3.48657602e-01,  7.58647800e-01],\n",
    "       [-8.11737988e-01, -1.69489924e-01,  5.92225322e-02,\n",
    "        -5.57554833e-01,  5.75413408e-01, -2.28191718e+00],\n",
    "       [-3.21047853e-01,  2.80241805e-01,  1.08647196e-01,\n",
    "         1.47576061e-01,  1.86597479e-01,  1.79367409e+00],\n",
    "       [ 8.75325097e-01,  9.21708113e-01, -6.65268541e-01,\n",
    "         2.53583588e-01, -1.85892485e-01,  9.05540150e-01],\n",
    "       [ 6.95933005e-01,  8.20493621e-02, -5.92883164e-02,\n",
    "        -8.84121233e-01, -5.79865769e-01,  2.61330420e+00],\n",
    "       [-4.07560865e-01,  8.20335552e-01, -6.06349939e-01,\n",
    "         1.63301155e-02, -8.78888049e-01, -2.26244291e+00],\n",
    "       [-3.83460563e-01,  6.82740885e-01, -9.49770523e-01,\n",
    "        -8.36497024e-02, -5.17146324e-01, -2.35309470e+00],\n",
    "       [-3.87192003e-01,  8.79544830e-01, -4.97605076e-01,\n",
    "        -7.55646127e-01, -6.09072215e-02, -3.45943941e+00],\n",
    "       [-9.19415594e-02, -1.50803214e-01,  4.64289473e-01,\n",
    "         1.00595511e-01,  3.58117212e-01,  2.49012539e+00],\n",
    "       [-5.45165729e-01, -1.57241112e-01, -5.63354661e-01,\n",
    "         3.25007706e-01,  5.00849328e-01, -1.03429660e+00]])"
   ]
  },
  {
   "cell_type": "code",
   "execution_count": 3,
   "id": "20c6eff8-5061-4451-8f58-6ca2a8d42f36",
   "metadata": {},
   "outputs": [],
   "source": [
    "def make_Psi(Xn, num):\n",
    "    Psi = Xn.transpose()\n",
    "    Psi = np.delete(Psi, (5), axis = 0)\n",
    "    Psi[num-1].fill(1)\n",
    "    return Psi.transpose()\n",
    "\n",
    "def make_F(Psi):\n",
    "    Psi_T = Psi.transpose()\n",
    "    return np.dot(Psi_T, Psi)\n",
    "\n",
    "def make_Y(Xn, num):\n",
    "    Y = Xn[:, num-1]\n",
    "    return Y\n",
    "\n",
    "def make_beta_wave(Xn, num):\n",
    "    Psi = make_Psi(Xn, num)\n",
    "    F = make_F(Psi)\n",
    "    Y = make_Y(Xn, num)\n",
    "    F_1 = np.linalg.inv(F)\n",
    "    beta_wave = np.dot(F_1, Psi.transpose())\n",
    "    beta_wave = np.dot(beta_wave, Y)\n",
    "    return beta_wave\n",
    "\n",
    "def make_e(Xn, num):\n",
    "    Y = make_Y(Xn, num)\n",
    "    Psi = make_Psi(Xn, num)\n",
    "    beta_wave = make_beta_wave(Xn, num)\n",
    "    e = Y - np.dot(Psi, beta_wave)\n",
    "    return e\n",
    "\n",
    "def RSS(Xn, num):\n",
    "    e = make_e(Xn, num)\n",
    "    return np.dot(e, e)\n",
    "\n",
    "def TSS(Xn, num):\n",
    "    Y = make_Y(Xn, num)\n",
    "    y_ = np.mean(Y)\n",
    "    a = np.array([(y-y_)**2 for y in Y])\n",
    "    return np.sum(a)\n",
    "\n",
    "def R2(Xn, num):\n",
    "    tss = TSS(Xn, num)\n",
    "    rss = RSS(Xn, num)\n",
    "    return (tss - rss) / tss"
   ]
  },
  {
   "cell_type": "code",
   "execution_count": 68,
   "id": "a2111fc6-28ec-4d8d-a6ff-5a44decb7ac6",
   "metadata": {},
   "outputs": [
    {
     "name": "stdout",
     "output_type": "stream",
     "text": [
      "1 : R^2 = 0.0463378288926966\n",
      "2 : R^2 = 0.11078137146909398\n",
      "3 : R^2 = 0.08140494141180978\n",
      "4 : R^2 = 0.05310567456320219\n",
      "5 : R^2 = 0.029651623957471313\n"
     ]
    }
   ],
   "source": [
    "Xn_ = Xn.copy()\n",
    "for i in range(1, 6):\n",
    "    print(i, \": R^2 =\", R2(Xn_, i))"
   ]
  },
  {
   "cell_type": "code",
   "execution_count": 33,
   "id": "e3de9463-22a8-48bd-be4c-5c70df79a016",
   "metadata": {},
   "outputs": [],
   "source": [
    "# T1 b)"
   ]
  },
  {
   "cell_type": "code",
   "execution_count": 85,
   "id": "997268cd-7f15-4bc2-b127-67fb61ed3726",
   "metadata": {},
   "outputs": [],
   "source": [
    "def make_Psi(Xn):\n",
    "    psi = np.delete(Xn, (-1), axis=1)\n",
    "    psi = psi.transpose()\n",
    "    Psi = np.concatenate(([np.ones(len(Xn))], psi))\n",
    "    return Psi.transpose()\n",
    "\n",
    "def make_F(Psi):\n",
    "    Psi_T = Psi.transpose()\n",
    "    return np.dot(Psi_T, Psi)\n",
    "\n",
    "def make_Y(Xn):\n",
    "    Y = Xn[:, -1]\n",
    "    return Y\n",
    "\n",
    "def make_beta_wave(Xn):\n",
    "    Psi = make_Psi(Xn)\n",
    "    F = make_F(Psi)\n",
    "    Y = make_Y(Xn)\n",
    "    F_1 = np.linalg.inv(F)\n",
    "    beta_wave = np.dot(F_1, Psi.transpose())\n",
    "    beta_wave = np.dot(beta_wave, Y)\n",
    "    return beta_wave\n",
    "\n",
    "def make_e(Xn):\n",
    "    Y = make_Y(Xn)\n",
    "    Psi = make_Psi(Xn)\n",
    "    beta_wave = make_beta_wave(Xn)\n",
    "    e = Y - np.dot(Psi, beta_wave)\n",
    "    return e\n",
    "\n",
    "def RSS(Xn):\n",
    "    e = make_e(Xn)\n",
    "    return np.dot(e, e)\n",
    "\n",
    "def TSS(Xn):\n",
    "    Y = make_Y(Xn)\n",
    "    y_ = np.mean(Y)\n",
    "    a = np.array([(y-y_)**2 for y in Y])\n",
    "    return np.sum(a)\n",
    "\n",
    "def R2(Xn):\n",
    "    tss = TSS(Xn)\n",
    "    rss = RSS(Xn)\n",
    "    return (tss - rss) / tss"
   ]
  },
  {
   "cell_type": "code",
   "execution_count": 8,
   "id": "b733fc6a-5f5d-443c-a436-e4ffebc7df5e",
   "metadata": {},
   "outputs": [
    {
     "name": "stdout",
     "output_type": "stream",
     "text": [
      "[ 2.00624437  3.60984527 -1.71669412  1.4358345   1.39102347 -0.66698205]\n"
     ]
    }
   ],
   "source": [
    "beta_wave = make_beta_wave(Xn)\n",
    "print(beta_wave)"
   ]
  },
  {
   "cell_type": "code",
   "execution_count": 86,
   "id": "d1d95680-ff4d-46ff-8c83-cd4ec942889c",
   "metadata": {},
   "outputs": [],
   "source": [
    "from scipy.stats import t, f, norm\n",
    "from scipy import integrate"
   ]
  },
  {
   "cell_type": "code",
   "execution_count": 9,
   "id": "342de41b-e4b3-4bf7-bc22-e4812d7f2fc2",
   "metadata": {},
   "outputs": [
    {
     "name": "stdout",
     "output_type": "stream",
     "text": [
      "0 : p-value = 2.1701613454369226e-07; - Значим\n",
      "1 : p-value = 1.985332645168921e-14; - Значим\n",
      "2 : p-value = 8.120449329601027e-06; - Значим\n",
      "3 : p-value = 0.00011015309172313535; - Значим\n",
      "4 : p-value = 0.0004035992402420516; - Значим\n",
      "5 : p-value = 3.767431860201962e-15; - Значим\n"
     ]
    }
   ],
   "source": [
    "# Проверяем значимость\n",
    "p = 6\n",
    "F = make_F(Xn)\n",
    "rss = RSS(Xn)\n",
    "delta = [beta_wave[i] / (rss * (F[i,i])**-1)**0.5 * (n-p)**0.5 \n",
    "         for i in range(6)]\n",
    "p_value = [2*integrate.quad(lambda x : t.pdf(x, n-p), abs(delta[i]), np.inf)[0]\n",
    "          for i in range(6)]\n",
    "for i in range(6):\n",
    "    print(i, ': p-value =', p_value[i], end='; ')\n",
    "    if p_value[i] < 0.05:\n",
    "        print('- Значим')\n",
    "    else:\n",
    "        print('- Незначим')"
   ]
  },
  {
   "cell_type": "code",
   "execution_count": 10,
   "id": "89e24e4a-99c6-4be2-91e5-f66ef2caa289",
   "metadata": {},
   "outputs": [],
   "source": [
    "p_val = np.array(p_value)\n",
    "Idx = p_val.argmax()"
   ]
  },
  {
   "cell_type": "code",
   "execution_count": 80,
   "id": "69b0f584-e991-4d52-ae17-55adaef1d569",
   "metadata": {},
   "outputs": [],
   "source": [
    "# T1 c)"
   ]
  },
  {
   "cell_type": "code",
   "execution_count": 81,
   "id": "e8fccbb4-df2d-42c8-81c2-34a98990ac8a",
   "metadata": {},
   "outputs": [
    {
     "name": "stdout",
     "output_type": "stream",
     "text": [
      "R^2 = 0.7930757445038014\n"
     ]
    }
   ],
   "source": [
    "r2 = R2(Xn)\n",
    "print(\"R^2 =\", r2)"
   ]
  },
  {
   "cell_type": "code",
   "execution_count": 83,
   "id": "f46d0eda-a1d6-434c-98ca-71ddad753095",
   "metadata": {},
   "outputs": [
    {
     "name": "stdout",
     "output_type": "stream",
     "text": [
      "p-value = 5.3718784610137356e-14; - Регрессия значима\n"
     ]
    }
   ],
   "source": [
    "delta = r2/(1-r2) * (n-p)/(p-1)\n",
    "p_value = integrate.quad(lambda x : f.pdf(x, p-1, n-p), delta, np.inf)[0]\n",
    "print('p-value =', p_value, end='; ')\n",
    "if p_value < 0.05:\n",
    "    print('- Регрессия значима')\n",
    "else:\n",
    "    print('- Регрессия не значима')"
   ]
  },
  {
   "cell_type": "code",
   "execution_count": 84,
   "id": "cafa1a22-d0ac-416c-9963-3e042b73ec69",
   "metadata": {},
   "outputs": [],
   "source": [
    "# T1 d) - Доверительный интервал"
   ]
  },
  {
   "cell_type": "code",
   "execution_count": 28,
   "id": "11b0c6a2-c6a5-424d-ac11-99f45f3595a3",
   "metadata": {},
   "outputs": [
    {
     "name": "stdout",
     "output_type": "stream",
     "text": [
      "1.4705461556567176 < 2 < 2.345927425705565\n"
     ]
    }
   ],
   "source": [
    "alpha = 0.05\n",
    "x0 = np.zeros(6)\n",
    "x0[0] = 1\n",
    "x0_T = x0.transpose()\n",
    "F_1 = np.linalg.inv(make_F(Xn))\n",
    "x_pred = np.dot(make_beta_wave(Xn), x0)\n",
    "kappa = (1 + np.dot(np.dot(x0, F_1), x0_T))**0.5\n",
    "\n",
    "t1 = t.pdf(alpha, n - p)\n",
    "t2 = t.pdf(1 - alpha, n - p)\n",
    "\n",
    "etta1 = x_pred - t1 * kappa * np.sqrt(rss  / (n - p))\n",
    "etta2 = x_pred + t2 * kappa * np.sqrt(rss  / (n - p))\n",
    "\n",
    "print(etta1, \"<\", 2, \"<\", etta2)"
   ]
  },
  {
   "cell_type": "code",
   "execution_count": 23,
   "id": "10ee825d-a046-4889-a126-0b0061c95cde",
   "metadata": {},
   "outputs": [],
   "source": [
    "# T1 e) Независимость ошибок измерения"
   ]
  },
  {
   "cell_type": "code",
   "execution_count": 29,
   "id": "49793799-8706-45f1-bd6b-57651f9c5335",
   "metadata": {},
   "outputs": [
    {
     "name": "stdout",
     "output_type": "stream",
     "text": [
      "[-1.60036683 -0.22436427 -0.00979663 -0.61494411  0.31581729  0.12230638\n",
      "  0.76611342  0.83579583 -0.78570376  0.24686366  1.94276125  2.55588009\n",
      "  0.08759838  0.95907709 -1.45346963  1.72965476 -0.07917365 -2.6933056\n",
      " -0.88189794  1.37920386  1.39175735 -1.70980031  2.00273427  0.37486545\n",
      " -0.50297897 -0.0750659   0.71298049 -0.06963705 -0.22371646  2.21131681\n",
      " -0.16160931 -0.59946583  0.46092407  3.11495766 -1.72307107  0.61966963\n",
      "  0.3450896  -0.64588747 -0.54023528 -1.31766065 -0.55251292 -0.57454685\n",
      "  1.19062826 -2.19971364 -0.83609544 -1.12749036 -0.66790384 -0.83309511\n",
      " -0.01082298 -0.65166372]\n"
     ]
    }
   ],
   "source": [
    "e = make_e(Xn)\n",
    "print(e)"
   ]
  },
  {
   "cell_type": "code",
   "execution_count": 30,
   "id": "fc23c93f-856d-42cf-8b37-982502d21301",
   "metadata": {},
   "outputs": [
    {
     "name": "stdout",
     "output_type": "stream",
     "text": [
      "p-value = 0.08809346876850153; - Ошибки независимы\n"
     ]
    }
   ],
   "source": [
    "I = 0\n",
    "for i in range(len(e)):\n",
    "    for j in range(i+1, len(e)):\n",
    "        if e[j] < e[i]:\n",
    "            I += 1\n",
    "delta = (I - n*(n-1)/4) / (n**3/36)**0.5\n",
    "p_value = 2 * integrate.quad(lambda x : norm.pdf(x), abs(delta), np.inf)[0]\n",
    "print('p-value =', p_value, end='; ')\n",
    "if p_value < 0.05:\n",
    "    print('- Ошибки зависимы')\n",
    "else:\n",
    "    print('- Ошибки независимы')"
   ]
  },
  {
   "cell_type": "code",
   "execution_count": 2,
   "id": "02d1a0d9-7d42-44d8-bb94-e3f3bd36ca67",
   "metadata": {},
   "outputs": [],
   "source": [
    "# T1 f) - Нормальность распределения ошибок"
   ]
  },
  {
   "cell_type": "code",
   "execution_count": 87,
   "id": "fdd169e8-d556-4b7a-b3e5-2e4b5b647a07",
   "metadata": {},
   "outputs": [],
   "source": [
    "from math import exp"
   ]
  },
  {
   "cell_type": "code",
   "execution_count": 89,
   "id": "777cd48d-20ba-446e-bfac-16d682fe0f89",
   "metadata": {},
   "outputs": [
    {
     "name": "stdout",
     "output_type": "stream",
     "text": [
      "sigma_wave = 1.4880873593149024\n",
      "delta_wave = 0.7190715510042017\n",
      "p-value = 0.7456; - Не отвергаем гипотезу о нормальности ошибок\n"
     ]
    }
   ],
   "source": [
    "def F_emp(X, x):\n",
    "    if x <= np.min(X):\n",
    "        return 0\n",
    "    if x > np.max(X):\n",
    "        return 1\n",
    "    X.sort()\n",
    "    m = 0\n",
    "    for i in range(len(X)):\n",
    "        if x > X[i]:\n",
    "            m += 1\n",
    "    return m/len(X)\n",
    "\n",
    "def N(a,b,C,D):\n",
    "    def f(x):\n",
    "        return 1/(2*np.pi*b)**0.5 * exp(-(x-a)**2/(2*b))\n",
    "    res = integrate.quad(f, C, D)\n",
    "    return res[0]\n",
    "\n",
    "def FN(x, sigma_2):\n",
    "    return N(0, sigma_2,-np.inf,x)\n",
    "\n",
    "X = make_e(Xn)\n",
    "sigma_wave = (1/len(X) * np.sum(X**2))**0.5\n",
    "print('sigma_wave =', sigma_wave)\n",
    "\n",
    "delta_wave = -np.inf\n",
    "for x in np.linspace(-5, 5, 1000):\n",
    "    delta_wave = max(delta_wave, abs(F_emp(X, x) - FN(x, sigma_wave)))\n",
    "delta_wave *= n**0.5\n",
    "print('delta_wave =', delta_wave)\n",
    "\n",
    "\n",
    "NN = 10000\n",
    "\n",
    "Delta = []\n",
    "for i in range(NN):\n",
    "    X = np.random.normal(loc = 0, scale = sigma_wave, size = n)\n",
    "    sigma_star = (1/len(X) * np.sum(X**2))**0.5\n",
    "    \n",
    "    d = -np.inf\n",
    "    for x in np.linspace(-5, 5, 100):\n",
    "        d = max(d, abs(F_emp(X, x) - FN(x, sigma_star)))\n",
    "    d *= n**0.5\n",
    "    \n",
    "    Delta.append(d)\n",
    "\n",
    "Delta.sort()\n",
    "\n",
    "def p_val(Delta, delta_wave):\n",
    "    for i in range(len(Delta)):\n",
    "        if Delta[i] >= delta_wave:\n",
    "            return (len(Delta) - i)/len(Delta)\n",
    "p_value = p_val(Delta, delta_wave)\n",
    "print('p-value =', p_value, end='; ')\n",
    "if p_value < 0.05:\n",
    "    print('- Отвергаем гипотезу')\n",
    "else:\n",
    "    print('- Не отвергаем гипотезу о нормальности ошибок')"
   ]
  },
  {
   "cell_type": "code",
   "execution_count": null,
   "id": "f5d5ccdc-371b-46c4-b0b2-6533bb738881",
   "metadata": {},
   "outputs": [],
   "source": [
    "# T1 g) - Выбросы"
   ]
  },
  {
   "cell_type": "code",
   "execution_count": 32,
   "id": "a23bbc11-82e2-4802-916a-bcb45a497384",
   "metadata": {},
   "outputs": [
    {
     "data": {
      "text/plain": [
       "<AxesSubplot:>"
      ]
     },
     "execution_count": 32,
     "metadata": {},
     "output_type": "execute_result"
    },
    {
     "data": {
      "image/png": "[encoded data removed]",
      "text/plain": [
       "<Figure size 432x288 with 1 Axes>"
      ]
     },
     "metadata": {
      "needs_background": "light"
     },
     "output_type": "display_data"
    }
   ],
   "source": [
    "import seaborn as sns\n",
    "\n",
    "e = make_e(Xn)\n",
    "sns.boxplot(x = e)"
   ]
  },
  {
   "cell_type": "code",
   "execution_count": 43,
   "id": "4161a5e0-9c2f-4790-99b0-8152c263bef7",
   "metadata": {},
   "outputs": [
    {
     "name": "stdout",
     "output_type": "stream",
     "text": [
      "index 34 - выброс\n",
      "\n",
      "Старый к-т детерминации: 0.7930757445788\n",
      "Новый к-т детерминации: 0.821902293806511\n",
      "Регрессия стала лучше\n"
     ]
    }
   ],
   "source": [
    "r2_old = R2(Xn)\n",
    "X = Xn.copy()\n",
    "e1 = e.copy()\n",
    "e1.sort()\n",
    "q1, q2 = e1[12], e1[37]\n",
    "eps = q2 - q1\n",
    "k = 0\n",
    "for i in range(len(e)):\n",
    "    if e[i] > q2+1.5*eps or e[i] < q1-1.5*eps:\n",
    "        print('index', i+1, '- выброс')\n",
    "        X = np.delete(X, (i), axis=0)\n",
    "        k += 1\n",
    "\n",
    "if k == 0:\n",
    "    print('Выбросов нет')\n",
    "    Max, Min, max_i, min_i = -np.inf, np.inf, None, None\n",
    "    for i in range(len(e)):\n",
    "        if e[i]> Max:\n",
    "            Max = e[i]\n",
    "            max_i = i\n",
    "        if e[i] < Min:\n",
    "            Min = e[i]\n",
    "            min_i = i\n",
    "    print(min_i, '- минимум')\n",
    "    print(max_i, '- максимум')\n",
    "    X = np.delete(X, min_i)\n",
    "    X = np.delete(X, max_i)\n",
    "r2_new = R2(X)\n",
    "print()\n",
    "print('Старый к-т детерминации:', r2_old)\n",
    "print('Новый к-т детерминации:', r2_new)\n",
    "if r2_new > r2_old:\n",
    "    print('Регрессия стала лучше')\n",
    "else:\n",
    "    print('Регрессия не стала лучше')"
   ]
  },
  {
   "cell_type": "code",
   "execution_count": null,
   "id": "1cdc18e7-af45-47a7-875a-88b8e05037ab",
   "metadata": {},
   "outputs": [],
   "source": [
    "# T1 h) - Кросс-проверка"
   ]
  },
  {
   "cell_type": "code",
   "execution_count": 48,
   "id": "d1c45cc9-7883-4e79-9509-b51451ff2a8d",
   "metadata": {},
   "outputs": [
    {
     "name": "stdout",
     "output_type": "stream",
     "text": [
      "Rcv^2 = 0.7377588650348703\n"
     ]
    }
   ],
   "source": [
    "y = make_Y(Xn)\n",
    "CVSS = []\n",
    "for i in range(n):\n",
    "    X = Xn.copy()\n",
    "    X = np.delete(X, (i), axis=0)\n",
    "    beta = make_beta_wave(X)\n",
    "    e = make_e(X)\n",
    "    x = np.concatenate(([1], Xn[i,0:5]))\n",
    "    y_wave = np.dot(beta, x) + np.mean(e)\n",
    "    CVSS.append((y[i]-y_wave) ** 2)\n",
    "cvss = np.sum(CVSS)\n",
    "tss = TSS(Xn)\n",
    "R2cv = (tss-cvss) / tss\n",
    "print('Rcv^2 =', R2cv)"
   ]
  },
  {
   "cell_type": "code",
   "execution_count": null,
   "id": "6434b5a4-73b6-42d4-a257-dc56ed958e8c",
   "metadata": {},
   "outputs": [],
   "source": [
    "# T1 i) - Адекватность модели"
   ]
  },
  {
   "cell_type": "code",
   "execution_count": 69,
   "id": "ab60644b-134e-461e-8c22-59820bc217b9",
   "metadata": {},
   "outputs": [],
   "source": [
    "from scipy.stats import uniform"
   ]
  },
  {
   "cell_type": "code",
   "execution_count": 75,
   "id": "6a409ed4-651b-4129-8e3c-f3a6a068edc0",
   "metadata": {},
   "outputs": [
    {
     "name": "stdout",
     "output_type": "stream",
     "text": [
      "delta~ = 0.02327391512377526\n",
      "p-value = 0.9999999999999882 - Не отвергаем гипотезу об адекватности\n"
     ]
    }
   ],
   "source": [
    "l = 5\n",
    "XN = []\n",
    "for i in range(l):\n",
    "    X = []\n",
    "    for k in range(5):\n",
    "        y = random.uniform(0,1)\n",
    "        x = 2*y -1\n",
    "        X.append(x)\n",
    "    mean = np.mean(np.dot(X, np.array([3,-2,1,1,-1]))+np.ones(len(X))*2)\n",
    "    y = np.random.normal(loc=mean,scale = 1.5,size=1)[0]\n",
    "    X.append(y)\n",
    "    XN.append(X)\n",
    "XN = np.array(XN)\n",
    "Y = make_Y(XN)\n",
    "\n",
    "np.random.seed(43)\n",
    "S2 = np.sum((Y - np.mean(Y))**2) / (l-1)\n",
    "delta_wave = RSS(XN) / ((n-p)*S2)\n",
    "p_value = f(n-p, l-1).sf(delta_wave)\n",
    "\n",
    "print('delta~ =', delta_wave)\n",
    "print('p-value =', p_value, end='')\n",
    "if p_value < 0.05:\n",
    "    print(' - Отвергаем гипотезу об адекватности')\n",
    "else:\n",
    "    print(' - Не отвергаем гипотезу об адекватности')"
   ]
  },
  {
   "cell_type": "code",
   "execution_count": null,
   "id": "50ac0aa6-9284-44d6-b786-f3ffd6ffab66",
   "metadata": {},
   "outputs": [],
   "source": [
    "# T1 j)"
   ]
  },
  {
   "cell_type": "code",
   "execution_count": 49,
   "id": "94d6fd1f-361b-4d98-b7b3-9ff13d2f7820",
   "metadata": {},
   "outputs": [],
   "source": [
    "X = np.delete(Xn, (Idx-1), axis=1)"
   ]
  },
  {
   "cell_type": "code",
   "execution_count": 54,
   "id": "220025d2-3144-405a-b4c0-6567da6b7ec6",
   "metadata": {},
   "outputs": [
    {
     "name": "stdout",
     "output_type": "stream",
     "text": [
      "[ 1.96118821  3.39814106 -1.90672007  1.41085687 -0.77097832]\n"
     ]
    }
   ],
   "source": [
    "new_beta = make_beta_wave(X)\n",
    "print(new_beta)"
   ]
  },
  {
   "cell_type": "code",
   "execution_count": 56,
   "id": "4fdac9dd-bbc5-494c-9da4-9c52b8497369",
   "metadata": {},
   "outputs": [
    {
     "name": "stdout",
     "output_type": "stream",
     "text": [
      "0 : p-value = 4.8828358834817465e-06; - Значим\n",
      "1 : p-value = 9.038953099309259e-12; - Значим\n",
      "2 : p-value = 1.4687093150337992e-05; - Значим\n",
      "3 : p-value = 0.0015817000100779208; - Значим\n",
      "4 : p-value = 2.604437629521591e-15; - Значим\n"
     ]
    }
   ],
   "source": [
    "# Проверяем значимость\n",
    "p1 = 5\n",
    "F = make_F(X)\n",
    "rss = RSS(X)\n",
    "delta = [new_beta[i] / (rss * (F[i,i])**-1)**0.5 * (n-p1)**0.5 \n",
    "         for i in range(5)]\n",
    "p_value = [2*integrate.quad(lambda x : t.pdf(x, n-p1), abs(delta[i]), np.inf)[0]\n",
    "          for i in range(5)]\n",
    "for j in range(5):\n",
    "    i = j\n",
    "    if j >= Idx:\n",
    "        i + j+1\n",
    "    print(i, ': p-value =', p_value[j], end='; ')\n",
    "    if p_value[j] < 0.05:\n",
    "        print('- Значим')\n",
    "    else:\n",
    "        print('- Незначим')"
   ]
  },
  {
   "cell_type": "code",
   "execution_count": 57,
   "id": "69c374d0-5519-42c6-8b7a-4eec78b0b89f",
   "metadata": {},
   "outputs": [
    {
     "name": "stdout",
     "output_type": "stream",
     "text": [
      "R^2 = 0.7177880485519511\n"
     ]
    }
   ],
   "source": [
    "new_r2 = R2(X)\n",
    "print(\"R^2 =\", new_r2)"
   ]
  },
  {
   "cell_type": "code",
   "execution_count": 58,
   "id": "a69093b5-d5c6-4aac-aae3-7105e54849ec",
   "metadata": {},
   "outputs": [
    {
     "name": "stdout",
     "output_type": "stream",
     "text": [
      "p-value = 7.45103364438307e-12; - Регрессия значима\n"
     ]
    }
   ],
   "source": [
    "delta = new_r2/(1-new_r2) * (n-p1)/(p1-1)\n",
    "p_value = integrate.quad(lambda x : f.pdf(x, p1-1, n-p1), delta, np.inf)[0]\n",
    "print('p-value =', p_value, end='; ')\n",
    "if p_value < 0.05:\n",
    "    print('- Регрессия значима')\n",
    "else:\n",
    "    print('- Регрессия не значима')"
   ]
  },
  {
   "cell_type": "code",
   "execution_count": 61,
   "id": "44e063ca-af50-4a10-a500-fa672120966f",
   "metadata": {},
   "outputs": [
    {
     "name": "stdout",
     "output_type": "stream",
     "text": [
      "new: RSS = 72.71573786413414\n",
      "old: RSS = 99.17276368519734\n",
      "Не ухудшилось\n",
      "\n",
      "p-value = 0.9999985079377843- Не отвергаем гипотезу о равенстве к-та 0\n",
      "\n",
      "new: R^2 = 0.7177880485519511\n",
      "old: R^2 = 0.7930757445788\n",
      "Ухудшилось\n"
     ]
    },
    {
     "name": "stderr",
     "output_type": "stream",
     "text": [
      "C:\\Users\\Kseny\\AppData\\Local\\Temp\\ipykernel_5360\\3059814421.py:13: IntegrationWarning: The maximum number of subdivisions (50) has been achieved.\n",
      "  If increasing the limit yields no improvement it is advised to analyze \n",
      "  the integrand in order to determine the difficulties.  If the position of a \n",
      "  local difficulty can be determined (singularity, discontinuity) one will \n",
      "  probably gain from splitting up the interval and calling the integrator \n",
      "  on the subranges.  Perhaps a special-purpose integrator should be used.\n",
      "  p_value = integrate.quad(lambda x : f.pdf(x, p-p1, n-p), delta, np.inf)[0]\n"
     ]
    }
   ],
   "source": [
    "# Сравнение регрессий\n",
    "new_rss = RSS(Xn)\n",
    "old_rss = RSS(X)\n",
    "print('new: RSS =', new_rss)\n",
    "print('old: RSS =', old_rss)\n",
    "if new_rss > old_rss:\n",
    "    print('Ухудшилось')\n",
    "else:\n",
    "    print('Не ухудшилось')\n",
    "print()\n",
    "\n",
    "delta = (new_rss-old_rss)/old_rss * (n-p)/(p-p1)\n",
    "p_value = integrate.quad(lambda x : f.pdf(x, p-p1, n-p), delta, np.inf)[0]\n",
    "print('p-value =', p_value, end='')\n",
    "if p_value < 0.05:\n",
    "    print('- Отвергаем гипотезу: к-т не равен 0')\n",
    "else:\n",
    "    print('- Не отвергаем гипотезу о равенстве к-та 0')\n",
    "print()\n",
    "\n",
    "old_r2 = R2(Xn)\n",
    "print('new: R^2 =', new_r2)\n",
    "print('old: R^2 =', old_r2)\n",
    "if new_r2 < old_r2:\n",
    "    print('Ухудшилось')\n",
    "else:\n",
    "    print('Не ухудшилось')"
   ]
  },
  {
   "cell_type": "code",
   "execution_count": null,
   "id": "680bc953-0dad-432d-87b6-9eda934bed51",
   "metadata": {},
   "outputs": [],
   "source": [
    "# T1 k) Сравнение регрессии bootstrap"
   ]
  },
  {
   "cell_type": "code",
   "execution_count": 67,
   "id": "ae016490-6470-45fd-9e2b-e13872b2a747",
   "metadata": {},
   "outputs": [
    {
     "name": "stdout",
     "output_type": "stream",
     "text": [
      "p-value = 1.0; - Не отвергаем гипотезу о равенстве к-та 0\n"
     ]
    }
   ],
   "source": [
    "def make_x(beta):\n",
    "    X = []\n",
    "    for k in range(len(beta)):\n",
    "        y = random.uniform(0,1)\n",
    "        x = 2*y -1\n",
    "        X.append(x)\n",
    "    x = np.dot(beta, np.array(X))\n",
    "    X.append(x)\n",
    "    return np.array(X)\n",
    "\n",
    "NN = 10000\n",
    "beta_wave = make_beta_wave(Xn)\n",
    "\n",
    "delta_wave = (new_rss-old_rss)/old_rss * (n-p)/(p-p1)\n",
    "\n",
    "Delta = []\n",
    "for i in range(NN):\n",
    "    Xn_star = []\n",
    "    for j in range(n):\n",
    "        Xn_star.append(make_x(beta_wave))\n",
    "    X_star = np.delete(Xn_star, (Idx-1), axis=1)\n",
    "    Xn_star = np.array(Xn_star)\n",
    "    new_rss = RSS(Xn_star)\n",
    "    old_rss = RSS(X_star)\n",
    "    delta = (new_rss-old_rss)/old_rss * (n-p)/(p-p1)\n",
    "    Delta.append(delta)\n",
    "Delta.sort()\n",
    "\n",
    "def p_val(Delta, delta_wave):\n",
    "    for i in range(len(Delta)):\n",
    "        if Delta[i] >= delta_wave:\n",
    "            return (len(Delta) - i)/len(Delta)\n",
    "p_value = p_val(Delta, delta_wave)\n",
    "print('p-value =', p_value, end='; ')\n",
    "if p_value < 0.05:\n",
    "    print('- Отвергаем гипотезу: к-т не равен 0')\n",
    "else:\n",
    "    print('- Не отвергаем гипотезу о равенстве к-та 0')"
   ]
  },
  {
   "cell_type": "code",
   "execution_count": null,
   "id": "0a4c012b-d043-4708-aa95-ea2e64b003cd",
   "metadata": {},
   "outputs": [],
   "source": []
  }
 ],
 "metadata": {
  "kernelspec": {
   "display_name": "Python 3 (ipykernel)",
   "language": "python",
   "name": "python3"
  },
  "language_info": {
   "codemirror_mode": {
    "name": "ipython",
    "version": 3
   },
   "file_extension": ".py",
   "mimetype": "text/x-python",
   "name": "python",
   "nbconvert_exporter": "python",
   "pygments_lexer": "ipython3",
   "version": "3.9.12"
  }
 },
 "nbformat": 4,
 "nbformat_minor": 5
}
