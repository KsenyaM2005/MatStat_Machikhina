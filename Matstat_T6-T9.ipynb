{
 "cells": [
  {
   "cell_type": "code",
   "execution_count": 1,
   "id": "ee4e09ea-08d4-47a9-aab8-35266e47d903",
   "metadata": {},
   "outputs": [
    {
     "name": "stdout",
     "output_type": "stream",
     "text": [
      "131.23466177606713\n"
     ]
    }
   ],
   "source": [
    "# T6\n",
    "import numpy as np\n",
    "\n",
    "m = np.array([10, 181, 9])\n",
    "Np = np.array([201**2/(2*400), 199*201/400, 199**2/(2*400)])\n",
    "d = np.sum((m-Np)**2/Np)\n",
    "print(d)"
   ]
  },
  {
   "cell_type": "code",
   "execution_count": 2,
   "id": "86f0c462-8c01-487b-88ae-ca6585cd5cd9",
   "metadata": {},
   "outputs": [
    {
     "name": "stdout",
     "output_type": "stream",
     "text": [
      "(2.1999842836682467e-30, 1.4124213266730983e-31)\n"
     ]
    }
   ],
   "source": [
    "from scipy.stats import chi2\n",
    "import scipy.integrate as integrate\n",
    "\n",
    "p_value = integrate.quad(lambda x : chi2.pdf(x, 1), d, np.inf)\n",
    "print(p_value)"
   ]
  },
  {
   "cell_type": "code",
   "execution_count": 3,
   "id": "d3144cb2-f36e-4bdb-838a-bfef0f881c0e",
   "metadata": {},
   "outputs": [
    {
     "name": "stdout",
     "output_type": "stream",
     "text": [
      "20.48264235764236\n"
     ]
    }
   ],
   "source": [
    "# T7\n",
    "A = np.array([[77/200, 91/200, 32/200], [77/200, 91/200, 32/200]])\n",
    "B = np.array([[0.5, 0.5, 0.5], [0.5, 0.5, 0.5]])\n",
    "m = np.array([[25, 50, 25], [52, 41, 7]])\n",
    "d = np.sum((m - 200*A*B)**2/(200*A*B))\n",
    "print(d)"
   ]
  },
  {
   "cell_type": "code",
   "execution_count": 4,
   "id": "1953659a-0505-4367-ba19-264aed23881d",
   "metadata": {},
   "outputs": [
    {
     "name": "stdout",
     "output_type": "stream",
     "text": [
      "(3.5665697729502794e-05, 1.2266942755903772e-09)\n"
     ]
    }
   ],
   "source": [
    "p_value = integrate.quad(lambda x : chi2.pdf(x, 2), d, np.inf)\n",
    "print(p_value)"
   ]
  },
  {
   "cell_type": "code",
   "execution_count": 5,
   "id": "2f29a5e2-7380-4e64-9b92-aeb066ea2648",
   "metadata": {},
   "outputs": [
    {
     "name": "stdout",
     "output_type": "stream",
     "text": [
      "2.0771359218904255\n"
     ]
    }
   ],
   "source": [
    "# T8\n",
    "A = np.array([[72/600, 78/600, 152/600, 298/600], [72/600, 78/600, 152/600, 298/600]])\n",
    "m = np.array([[33, 43, 80, 144], [39, 35, 72, 154]])\n",
    "d = np.sum((m - 300*A)**2/(300*A))\n",
    "print(d)"
   ]
  },
  {
   "cell_type": "code",
   "execution_count": 6,
   "id": "e0d44cae-bd2d-4ade-ac83-217e0ea33324",
   "metadata": {},
   "outputs": [
    {
     "name": "stdout",
     "output_type": "stream",
     "text": [
      "(0.5565521530460767, 9.720833143883695e-12)\n"
     ]
    }
   ],
   "source": [
    "p_value = integrate.quad(lambda x : chi2.pdf(x, 3), d, np.inf)\n",
    "print(p_value)"
   ]
  },
  {
   "cell_type": "code",
   "execution_count": 7,
   "id": "89e4bb87-c9eb-4c7e-b638-e02927457490",
   "metadata": {},
   "outputs": [
    {
     "name": "stdout",
     "output_type": "stream",
     "text": [
      "16.4\n"
     ]
    }
   ],
   "source": [
    "# T9 a)\n",
    "m = np.array([5, 8, 6, 12, 14, 18, 11, 6, 13, 7])\n",
    "Np = np.array([10,10,10,10,10,10,10,10,10,10])\n",
    "d = np.sum((m-Np)**2 / Np)\n",
    "print(d)"
   ]
  },
  {
   "cell_type": "code",
   "execution_count": 8,
   "id": "277eb6b8-cd21-430f-97a5-a71866a88e94",
   "metadata": {},
   "outputs": [
    {
     "name": "stdout",
     "output_type": "stream",
     "text": [
      "(0.05898403054441968, 2.513395414959647e-10)\n"
     ]
    }
   ],
   "source": [
    "p_value = integrate.quad(lambda x : chi2.pdf(x, 9), d, np.inf)\n",
    "print(p_value)"
   ]
  },
  {
   "cell_type": "code",
   "execution_count": 9,
   "id": "b6c0e3f8-2d62-4086-aaae-ba17515f1b92",
   "metadata": {},
   "outputs": [
    {
     "data": {
      "image/png": "[encoded data removed]",
      "text/plain": [
       "<Figure size 432x288 with 1 Axes>"
      ]
     },
     "metadata": {
      "needs_background": "light"
     },
     "output_type": "display_data"
    }
   ],
   "source": [
    "import matplotlib.pyplot as plt\n",
    "\n",
    "def F_emp(x, M = m):\n",
    "    if x <= 0:\n",
    "        return 0\n",
    "    if x > 9:\n",
    "        return 1\n",
    "    for i in range(len(M)):\n",
    "        if x > i and x <= i+1:\n",
    "            return np.sum(M[0:i+1])/np.sum(M)\n",
    "        \n",
    "def F(x):\n",
    "    if x < 0:\n",
    "        return 0\n",
    "    if x >= 10:\n",
    "        return 1\n",
    "    return 0.1*x\n",
    "\n",
    "# Проверка\n",
    "x = np.linspace(-1, 11, 1000)\n",
    "y1 = [F(X) for X in x]\n",
    "y2 = [F_emp(X) for X in x]\n",
    "plt.plot(x, y1, c='blue')\n",
    "plt.plot(x, y2, c='red')\n",
    "plt.show()"
   ]
  },
  {
   "cell_type": "code",
   "execution_count": 10,
   "id": "298d32f1-77de-4b44-9bef-b679c3947d1e",
   "metadata": {},
   "outputs": [
    {
     "name": "stdout",
     "output_type": "stream",
     "text": [
      "1.399999999999999\n"
     ]
    }
   ],
   "source": [
    "N = 100\n",
    "d = -np.inf\n",
    "for x in range(0,10):\n",
    "    d = max(d, abs(F_emp(x) - F(x)), abs(F_emp(x+1) - F(x)))\n",
    "d *= N**0.5\n",
    "print(d)"
   ]
  },
  {
   "cell_type": "code",
   "execution_count": 11,
   "id": "a68bf187-34e8-4737-9962-5931d326ef61",
   "metadata": {},
   "outputs": [
    {
     "name": "stdout",
     "output_type": "stream",
     "text": [
      "0.03968187953811464\n"
     ]
    }
   ],
   "source": [
    "from math import exp\n",
    "\n",
    "def K(x):\n",
    "    res = 1\n",
    "    for k in range(1, 100000):\n",
    "        res += 2 * (-1)**k * exp(-2 * k**2 * x**2)\n",
    "    return res\n",
    "\n",
    "p_value = 1 - K(d)\n",
    "print(p_value)"
   ]
  },
  {
   "cell_type": "code",
   "execution_count": 12,
   "id": "3e95f725-612f-48e1-ae3d-20049ede9ca4",
   "metadata": {},
   "outputs": [
    {
     "name": "stdout",
     "output_type": "stream",
     "text": [
      "[5.28966139 7.17978319]\n"
     ]
    }
   ],
   "source": [
    "# T9 b) -> Пирсон, ОМПГ\n",
    "from scipy.optimize import minimize, Bounds\n",
    "from math import isinf\n",
    "\n",
    "def N(a,b,C,D):\n",
    "    def f(x):\n",
    "        return 1/(2*np.pi*b)**0.5 * exp(-(x-a)**2/(2*b))\n",
    "    res = integrate.quad(f, C, D)\n",
    "    return res[0]\n",
    "    \n",
    "\n",
    "def minus_L(params, M = m): # - L\n",
    "    a,b = params\n",
    "    res = N(a,b,-np.inf,1) ** M[0]\n",
    "    for i in range(1, 8+1):\n",
    "        res *= N(a,b,i,i+1) ** M[i]\n",
    "    res *= N(a,b,9,np.inf) ** M[9]\n",
    "    return -res\n",
    "\n",
    "x0 = np.array([5,1])\n",
    "res = minimize(minus_L, x0, method='Nelder-Mead')\n",
    "print(res.x)"
   ]
  },
  {
   "cell_type": "code",
   "execution_count": 13,
   "id": "d722e887-d213-48d6-aa5e-0843b96036d1",
   "metadata": {},
   "outputs": [
    {
     "name": "stdout",
     "output_type": "stream",
     "text": [
      "[ 5.46982518  5.50798121  8.66340182 11.8737924  14.18072648 14.75765223\n",
      " 13.38277616 10.57509688  7.28164342  8.30710421]\n"
     ]
    }
   ],
   "source": [
    "a,b = res.x\n",
    "P = np.array([N(a,b,i,i+1) for i in range(0,10)])\n",
    "P[0] = N(a,b,-np.inf,1)\n",
    "P[9] = N(a,b,9,np.inf)\n",
    "\n",
    "n = 100\n",
    "Np = n*P\n",
    "print(Np)"
   ]
  },
  {
   "cell_type": "code",
   "execution_count": 14,
   "id": "e4932aec-bd48-44a1-9dda-64696249badb",
   "metadata": {},
   "outputs": [
    {
     "name": "stdout",
     "output_type": "stream",
     "text": [
      "9.802589870491952\n"
     ]
    }
   ],
   "source": [
    "d = np.sum((m-Np)**2 / Np)\n",
    "print(d)"
   ]
  },
  {
   "cell_type": "code",
   "execution_count": 15,
   "id": "f66f5881-043e-47ab-b639-16ed724d0765",
   "metadata": {},
   "outputs": [
    {
     "name": "stdout",
     "output_type": "stream",
     "text": [
      "(0.20003927298797472, 5.283144036828307e-10)\n"
     ]
    }
   ],
   "source": [
    "p_value = integrate.quad(lambda x : chi2.pdf(x, 7), d, np.inf)\n",
    "print(p_value)"
   ]
  },
  {
   "cell_type": "code",
   "execution_count": 16,
   "id": "26308c99-7a68-4220-9b72-a077b4179ab2",
   "metadata": {},
   "outputs": [
    {
     "name": "stdout",
     "output_type": "stream",
     "text": [
      "0.35496\n"
     ]
    }
   ],
   "source": [
    "def F_emp(x, M):\n",
    "    if x <= 0:\n",
    "        return 0\n",
    "    if x > 9:\n",
    "        return 1\n",
    "    for i in range(len(M)):\n",
    "        if x > i and x <= i+1:\n",
    "            return np.sum(M[0:i+1])/np.sum(M)\n",
    "\n",
    "def N(a,b,C,D):\n",
    "    def f(x):\n",
    "        return 1/(2*np.pi*b)**0.5 * exp(-(x-a)**2/(2*b))\n",
    "    res = integrate.quad(f, C, D)\n",
    "    return res[0]\n",
    "\n",
    "def FN(x, A=a, B=b):\n",
    "    return N(A,B,-np.inf,x)\n",
    "\n",
    "NN = 50000\n",
    "n = 100\n",
    "\n",
    "Delta = []\n",
    "for i in range(NN):\n",
    "    Xn = np.random.normal(loc = a, scale = b**0.5, size = n)\n",
    "    M = [0,0,0,0,0,0,0,0,0,0]\n",
    "    for j in range(len(Xn)):\n",
    "        if Xn[j] < 1:\n",
    "            M[0] += 1\n",
    "        if Xn[j] >= 9:\n",
    "            M[9] += 1\n",
    "        for k in range(1, 8+1):\n",
    "            if Xn[j] >= k and Xn[j] < k+1:\n",
    "                M[k] += 1\n",
    "    x0 = np.array([5,1])\n",
    "    teta_star = minimize(minus_L, x0, M, method='Nelder-Mead')\n",
    "    a_star, b_star = teta_star.x\n",
    "    d = -np.inf\n",
    "    for x in range(0,10):\n",
    "        d = max(d, abs(F_emp(x, M) - FN(x, a_star, b_star)),\n",
    "                abs(F_emp(x+1, M) - FN(x, a_star, b_star)))\n",
    "    d *= n**0.5\n",
    "    \n",
    "    Delta.append(d)\n",
    "\n",
    "Delta.sort()\n",
    "delta_ = -np.inf\n",
    "for x in range(0,10):\n",
    "    delta_ = max(delta_, abs(F_emp(x, m) - FN(x, a, b)),\n",
    "            abs(F_emp(x+1, m) - FN(x, a, b)))\n",
    "delta_ *= n**0.5\n",
    "\n",
    "\n",
    "def p_val(Delta, delta_):\n",
    "    for i in range(len(Delta)):\n",
    "        if Delta[i] >= delta_:\n",
    "            return (len(Delta) - i)/len(Delta)\n",
    "print(p_val(Delta, delta_))  "
   ]
  },
  {
   "cell_type": "code",
   "execution_count": null,
   "id": "6f5d4732-7d7a-4c69-a79a-50bb8f8a0ce3",
   "metadata": {},
   "outputs": [],
   "source": []
  },
  {
   "cell_type": "code",
   "execution_count": null,
   "id": "daa4bbab-684a-4577-b9de-4b04e6ea55bc",
   "metadata": {},
   "outputs": [],
   "source": []
  }
 ],
 "metadata": {
  "kernelspec": {
   "display_name": "Python 3 (ipykernel)",
   "language": "python",
   "name": "python3"
  },
  "language_info": {
   "codemirror_mode": {
    "name": "ipython",
    "version": 3
   },
   "file_extension": ".py",
   "mimetype": "text/x-python",
   "name": "python",
   "nbconvert_exporter": "python",
   "pygments_lexer": "ipython3",
   "version": "3.9.12"
  }
 },
 "nbformat": 4,
 "nbformat_minor": 5
}
