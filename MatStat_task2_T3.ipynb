{
 "cells": [
  {
   "cell_type": "code",
   "execution_count": 1,
   "id": "261a1549-415b-4d12-9bcb-51db221153c7",
   "metadata": {},
   "outputs": [],
   "source": [
    "import numpy as np\n",
    "import pandas as pd\n",
    "\n",
    "from matplotlib import pyplot as plt\n",
    "from scipy.optimize import minimize\n",
    "from tqdm.notebook import tqdm"
   ]
  },
  {
   "cell_type": "code",
   "execution_count": 2,
   "id": "2a49f856-a517-4c94-b4a1-fa41ef1bf2a0",
   "metadata": {},
   "outputs": [],
   "source": [
    "Y = np.array([1, 5, 2]).reshape(1, -1).T\n",
    "PSI = np.array([[1, 0],\n",
    "                [0, 1],\n",
    "                [1, 1]])\n",
    "Xn = np.hstack((PSI, Y))"
   ]
  },
  {
   "cell_type": "code",
   "execution_count": 4,
   "id": "f66c8043-c7bd-4dc9-b0fd-ea49b0570883",
   "metadata": {},
   "outputs": [
    {
     "name": "stdout",
     "output_type": "stream",
     "text": [
      "-0.33333333333333326 3.6666666666666665\n"
     ]
    }
   ],
   "source": [
    "{\n",
    " \"cells\": [],\n",
    " \"metadata\": {},\n",
    " \"nbformat\": 4,\n",
    " \"nbformat_minor\": 5\n",
    "}\n",
    "\n",
    "def linear_regression(sample, regularization=None, c=1):\n",
    "    PSI, Y = sample[:, :-1], sample[:, -1]\n",
    "    F = PSI.T @ PSI\n",
    "    beta_wave = np.linalg.inv(F) @ PSI.T @ Y\n",
    "    if regularization == 'lasso':\n",
    "        def lagrange_function(x):\n",
    "            e = Y - PSI@x\n",
    "            L = (e.T@e) + c*(np.sum(abs(x)))\n",
    "            return L\n",
    "        result = minimize(lagrange_function, beta_wave, method='Nelder-Mead')\n",
    "        beta_wave = result.x\n",
    "    elif regularization == 'ridge':        \n",
    "        def lagrange_function(x):\n",
    "            e = Y - PSI@x\n",
    "            L = (e.T@e) + c*(np.sum(x**2))\n",
    "            return L\n",
    "        result = minimize(lagrange_function, beta_wave, method='Nelder-Mead')\n",
    "        beta_wave = result.x\n",
    "    return beta_wave\n",
    "\n",
    "beta_wave = linear_regression(Xn)\n",
    "a, b = beta_wave\n",
    "print(a, b)"
   ]
  },
  {
   "cell_type": "code",
   "execution_count": 11,
   "id": "cce2586d-c568-47cf-825e-f6f5dab534ab",
   "metadata": {},
   "outputs": [
    {
     "name": "stdout",
     "output_type": "stream",
     "text": [
      "48.0\n"
     ]
    }
   ],
   "source": [
    "def cross_validation(sample, regularization=None, c=1):\n",
    "    n = np.size(sample, axis=0)\n",
    "    CVSS = 0\n",
    "    for i in range(n):\n",
    "        train_batch_cur = np.delete(sample, (i), axis=0)\n",
    "        sample_cur = sample[i, :]\n",
    "        beta = linear_regression(train_batch_cur, regularization=regularization, c=c)\n",
    "        x, y = sample_cur[:-1], sample_cur[-1]\n",
    "        y_wave = np.dot(beta, x)\n",
    "        CVSS += (y - y_wave) ** 2\n",
    "    return CVSS\n",
    "\n",
    "CVSS = cross_validation(Xn)\n",
    "print(CVSS)"
   ]
  },
  {
   "cell_type": "code",
   "execution_count": 12,
   "id": "94d8df04-b94a-470f-9979-3c0637702fa3",
   "metadata": {},
   "outputs": [],
   "source": [
    "def CVSS_search_lamda(sample, regularization=None):\n",
    "    lamdas = np.arange(0, 12, 10e-4)\n",
    "    min_lamda, min_CVSS = 0, np.inf\n",
    "    CVSSs = []\n",
    "    for lamda in tqdm(lamdas):\n",
    "        CVSS = cross_validation(sample, regularization=regularization, c=lamda)\n",
    "        CVSSs.append(CVSS)\n",
    "        if CVSS < min_CVSS:\n",
    "            min_CVSS = CVSS\n",
    "            min_lamda = lamda\n",
    "    return min_lamda, min_CVSS, lamdas, CVSSs"
   ]
  },
  {
   "cell_type": "code",
   "execution_count": 24,
   "id": "e3bec416-7ac3-4a7f-b806-ef901752ee31",
   "metadata": {
    "tags": []
   },
   "outputs": [
    {
     "data": {
      "application/vnd.jupyter.widget-view+json": {
       "model_id": "100ace308c8c40f6ad2650979228732c",
       "version_major": 2,
       "version_minor": 0
      },
      "text/plain": [
       "  0%|          | 0/12000 [00:00<?, ?it/s]"
      ]
     },
     "metadata": {},
     "output_type": "display_data"
    }
   ],
   "source": [
    "min_lamda, min_CVSS, lamdas, CVSSs = CVSS_search_lamda(Xn, regularization='ridge')"
   ]
  },
  {
   "cell_type": "code",
   "execution_count": 25,
   "id": "d9ec5ce2-5b2d-47fa-8d7a-b8fc0c768141",
   "metadata": {},
   "outputs": [
    {
     "name": "stdout",
     "output_type": "stream",
     "text": [
      "0.31191352284835655 1.9048683700790643\n",
      "lambda_min = 1.5110000000000001\n",
      "CVSS_min = 21.264683978399066\n"
     ]
    }
   ],
   "source": [
    "beta_wave = linear_regression(Xn, regularization='ridge', c=min_lamda)\n",
    "a, b = beta_wave\n",
    "print(a, b)\n",
    "print('lambda_min =', min_lamda)\n",
    "print('CVSS_min =', min_CVSS)"
   ]
  },
  {
   "cell_type": "code",
   "execution_count": 26,
   "id": "397aadfa-6cd2-4067-aa05-18b725420e21",
   "metadata": {},
   "outputs": [
    {
     "data": {
      "image/png": "[encoded data removed]",
      "text/plain": [
       "<Figure size 432x288 with 1 Axes>"
      ]
     },
     "metadata": {
      "needs_background": "light"
     },
     "output_type": "display_data"
    }
   ],
   "source": [
    "plt.plot(lamdas, CVSSs)\n",
    "plt.minorticks_on()\n",
    "plt.grid(which='major')\n",
    "plt.grid(which='minor', linestyle=':')"
   ]
  },
  {
   "cell_type": "code",
   "execution_count": 19,
   "id": "bc8b7ed4-c50d-46cf-bc85-b1de04aa12e7",
   "metadata": {},
   "outputs": [
    {
     "data": {
      "application/vnd.jupyter.widget-view+json": {
       "model_id": "1a27956664bb4defb7e0023569085391",
       "version_major": 2,
       "version_minor": 0
      },
      "text/plain": [
       "  0%|          | 0/12000 [00:00<?, ?it/s]"
      ]
     },
     "metadata": {},
     "output_type": "display_data"
    }
   ],
   "source": [
    "min_lamda, min_CVSS, lamdas, CVSSs = CVSS_search_lamda(Xn, regularization='lasso')"
   ]
  },
  {
   "cell_type": "code",
   "execution_count": 21,
   "id": "096e60c9-2bf4-483f-a0bb-1fd7f137d515",
   "metadata": {},
   "outputs": [
    {
     "name": "stdout",
     "output_type": "stream",
     "text": [
      "0.26992548226581875 0.8414308056952371\n",
      "lambda_min = 5.998\n",
      "CVSS_min = 25.99999965799884\n"
     ]
    }
   ],
   "source": [
    "beta_wave = linear_regression(Xn, regularization='ridge', c=min_lamda)\n",
    "a, b = beta_wave\n",
    "print(a, b)\n",
    "print('lambda_min =', min_lamda)\n",
    "print('CVSS_min =', min_CVSS)"
   ]
  },
  {
   "cell_type": "code",
   "execution_count": 22,
   "id": "20441b81-3d67-4e62-97f4-179e6e933948",
   "metadata": {},
   "outputs": [
    {
     "data": {
      "image/png": "[encoded data removed]",
      "text/plain": [
       "<Figure size 432x288 with 1 Axes>"
      ]
     },
     "metadata": {
      "needs_background": "light"
     },
     "output_type": "display_data"
    }
   ],
   "source": [
    "plt.plot(lamdas, CVSSs)\n",
    "plt.minorticks_on()\n",
    "plt.grid(which='major')\n",
    "plt.grid(which='minor', linestyle=':')"
   ]
  },
  {
   "cell_type": "code",
   "execution_count": null,
   "id": "dc3a9fb7-2a02-4549-817e-19ee3a18f625",
   "metadata": {},
   "outputs": [],
   "source": []
  }
 ],
 "metadata": {
  "kernelspec": {
   "display_name": "Python 3 (ipykernel)",
   "language": "python",
   "name": "python3"
  },
  "language_info": {
   "codemirror_mode": {
    "name": "ipython",
    "version": 3
   },
   "file_extension": ".py",
   "mimetype": "text/x-python",
   "name": "python",
   "nbconvert_exporter": "python",
   "pygments_lexer": "ipython3",
   "version": "3.9.12"
  }
 },
 "nbformat": 4,
 "nbformat_minor": 5
}
