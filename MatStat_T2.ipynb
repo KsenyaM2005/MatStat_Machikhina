{
 "cells": [
  {
   "cell_type": "code",
   "execution_count": 8,
   "id": "1c08ac85-8452-4a7f-bc16-3b896ee13d3b",
   "metadata": {},
   "outputs": [
    {
     "name": "stdout",
     "output_type": "stream",
     "text": [
      "[1.2312979241378637, 0.6214129398745099, 1.9214832073389125, 0.019306333162697278, 0.9078065551449367, 0.2907538419989423, 1.0282771715939714, 0.010260370316092107, 1.8051451377920527, 0.23945829495305154, 1.9182546644793035, 0.7517993609215416, 0.38451000072223046, 2.200912721960864, 0.023720685730570065, 2.563545492955951, 0.9677683746523997, 0.17617786626577092, 1.2734883174525153, 0.4573977615831305, 1.2123164113349234, 1.507136726867689, 4.119688940903427, 2.918438969146949, 0.9286778967210539]\n"
     ]
    }
   ],
   "source": [
    "import random\n",
    "from math import log\n",
    "\n",
    "def G(y : float): # F^-1(y) - обратная к функции распределения\n",
    "    return -log(1 - y)\n",
    "\n",
    "n = 25\n",
    "Yn = [random.uniform(0, 1) for i in range(n)]\n",
    "Xn = [G(y) for y in Yn]\n",
    "\n",
    "print(Xn)"
   ]
  },
  {
   "cell_type": "code",
   "execution_count": 10,
   "id": "220f1b0f-41e8-4f99-a187-d9c0ce1c3d0e",
   "metadata": {},
   "outputs": [
    {
     "name": "stdout",
     "output_type": "stream",
     "text": [
      "1 1 1 1 1 1 1 1 1 1 1 1 1 1 1 1 1 1 1 1 1 1 1 1 1 "
     ]
    }
   ],
   "source": [
    "for x in Xn:\n",
    "    print(Xn.count(x), end = ' ')"
   ]
  },
  {
   "cell_type": "code",
   "execution_count": 14,
   "id": "438fe9dc-dbcd-4563-9c70-230023122396",
   "metadata": {},
   "outputs": [
    {
     "name": "stdout",
     "output_type": "stream",
     "text": [
      "med =  0.9677683746523997\n",
      "l =  4.109428570587335\n"
     ]
    }
   ],
   "source": [
    "Xn.sort()\n",
    "print('med = ', Xn[12])\n",
    "print('l = ', max(Xn) - min(Xn))"
   ]
  },
  {
   "cell_type": "code",
   "execution_count": 17,
   "id": "b675ee81-e0ec-4b00-bd18-a60a6c81cee0",
   "metadata": {},
   "outputs": [
    {
     "name": "stdout",
     "output_type": "stream",
     "text": [
      "gamma_ =  1.095379264194971\n"
     ]
    }
   ],
   "source": [
    "def M(Zn):\n",
    "    return sum(Zn)/len(Zn)\n",
    "\n",
    "Mx = M(Xn)\n",
    "mu3_ = M([(x - Mx)**3 for x in Xn])\n",
    "mu2_ = M([(x - Mx)**2 for x in Xn])\n",
    "print('gamma_ = ', mu3_/(mu2_**1.5))"
   ]
  },
  {
   "cell_type": "code",
   "execution_count": 45,
   "id": "96908912-8084-493a-b038-67b8b27d7859",
   "metadata": {},
   "outputs": [
    {
     "data": {
      "image/png": "[encoded data removed]",
      "text/plain": [
       "<Figure size 432x288 with 1 Axes>"
      ]
     },
     "metadata": {
      "needs_background": "light"
     },
     "output_type": "display_data"
    }
   ],
   "source": [
    "#Эмпирическая функция распределения\n",
    "import matplotlib.pyplot as plt\n",
    "\n",
    "for i in range(1, n):\n",
    "#   plt.annotate('', xy = (Xn[i-1], i/n), color = 'red')\n",
    "    plt.plot([Xn[i-1], Xn[i]], [i/n, i/n], marker = 'o', color = 'blue', ms = 3.3)\n",
    "#plt.scatter([Xn[i-1] for i in range(1,n)], [i/n for i in range(1,n)], c = 'w')\n",
    "plt.show()"
   ]
  },
  {
   "cell_type": "code",
   "execution_count": 51,
   "id": "434f1de7-eac9-47d7-a052-a8b35b8bdb47",
   "metadata": {},
   "outputs": [
    {
     "name": "stdout",
     "output_type": "stream",
     "text": [
      "delta =  0.821885714117467\n"
     ]
    }
   ],
   "source": [
    "# Гистограмма\n",
    "from math import log2\n",
    "\n",
    "k = int(1 + log2(n))\n",
    "\n",
    "print('delta = ', (max(Xn)-min(Xn))/k)"
   ]
  },
  {
   "cell_type": "code",
   "execution_count": 52,
   "id": "78acda5b-b337-491b-b29d-c5dc6f707557",
   "metadata": {},
   "outputs": [
    {
     "name": "stdout",
     "output_type": "stream",
     "text": [
      "[0.010260370316092107, 0.019306333162697278, 0.023720685730570065, 0.17617786626577092, 0.23945829495305154, 0.2907538419989423, 0.38451000072223046, 0.4573977615831305, 0.6214129398745099, 0.7517993609215416, 0.9078065551449367, 0.9286778967210539, 0.9677683746523997, 1.0282771715939714, 1.2123164113349234, 1.2312979241378637, 1.2734883174525153, 1.507136726867689, 1.8051451377920527, 1.9182546644793035, 1.9214832073389125, 2.200912721960864, 2.563545492955951, 2.918438969146949, 4.119688940903427]\n"
     ]
    }
   ],
   "source": [
    "print(Xn)"
   ]
  },
  {
   "cell_type": "code",
   "execution_count": 54,
   "id": "a82837e9-6f43-4b67-9825-92286ebc5bd4",
   "metadata": {},
   "outputs": [
    {
     "data": {
      "text/plain": [
       "<AxesSubplot:>"
      ]
     },
     "execution_count": 54,
     "metadata": {},
     "output_type": "execute_result"
    },
    {
     "data": {
      "image/png": "[encoded data removed]",
      "text/plain": [
       "<Figure size 432x288 with 1 Axes>"
      ]
     },
     "metadata": {
      "needs_background": "light"
     },
     "output_type": "display_data"
    }
   ],
   "source": [
    "# boxplot\n",
    "\n",
    "import seaborn as sns\n",
    "\n",
    "sns.boxplot(x = Xn)"
   ]
  },
  {
   "cell_type": "code",
   "execution_count": 99,
   "id": "bb92504b-e7cf-461b-a66d-c4d9b0dd711e",
   "metadata": {},
   "outputs": [
    {
     "data": {
      "image/png": "[encoded data removed]",
      "text/plain": [
       "<Figure size 432x288 with 1 Axes>"
      ]
     },
     "metadata": {
      "needs_background": "light"
     },
     "output_type": "display_data"
    }
   ],
   "source": [
    "# bootstrap для среднего (c)\n",
    "import random\n",
    "from math import exp\n",
    "import numpy as np\n",
    "\n",
    "def N(a, D, x):\n",
    "    return 1/(D * 2 * np.pi)**0.5 * exp(-(x-a)**2/(2*D))\n",
    "\n",
    "k1 = int(1 + log2(1000))\n",
    "\n",
    "X_bs = []\n",
    "for i in range(1000):\n",
    "    Xn_ = []\n",
    "    for j in range(len(Xn)):\n",
    "        Xn_.append(random.choice(Xn))\n",
    "    X_bs.append(M(Xn_))\n",
    "\n",
    "n, bins, rects = plt.hist(X_bs, bins = k1, ec='k')\n",
    "m = 0\n",
    "for r in rects:\n",
    "    r.set_height(r.get_height()/len(X_bs)/r.get_width())\n",
    "    m = max(m, r.get_height())\n",
    "plt.ylim([0, m + 0.25])\n",
    "\n",
    "x = np.linspace(0, 2, 1000)\n",
    "y = np.array([N(1, 0.04, X) for X in x])\n",
    "plt.plot(x, y)\n",
    "plt.show()"
   ]
  },
  {
   "cell_type": "code",
   "execution_count": 75,
   "id": "cc344b6b-ab53-43dd-8ec3-9970fd0e114e",
   "metadata": {},
   "outputs": [
    {
     "data": {
      "image/png": "[encoded data removed]",
      "text/plain": [
       "<Figure size 432x288 with 1 Axes>"
      ]
     },
     "metadata": {
      "needs_background": "light"
     },
     "output_type": "display_data"
    }
   ],
   "source": [
    "# bootstrap для коэффициента симметрии\n",
    "\n",
    "X_bs = []\n",
    "for i in range(1000):\n",
    "    Xn_ = []\n",
    "    for j in range(len(Xn)):\n",
    "        Xn_.append(random.choice(Xn))\n",
    "    Mx = M(Xn_)\n",
    "    mu3 = M([(x - Mx)**3 for x in Xn_])\n",
    "    mu2 = M([(x - Mx)**2 for x in Xn_])\n",
    "    X_bs.append(mu3/(mu2 ** 1.5))\n",
    "\n",
    "n, bins, rects = plt.hist(X_bs, bins = k1, ec='k')\n",
    "m = 0\n",
    "for r in rects:\n",
    "    r.set_height(r.get_height()/len(X_bs)/r.get_width())\n",
    "    m = max(m, r.get_height())\n",
    "plt.ylim([0, m + 0.25])\n",
    "\n",
    "plt.show()"
   ]
  },
  {
   "cell_type": "code",
   "execution_count": 87,
   "id": "461562b5-2c75-4d03-8a20-c1dbb8334424",
   "metadata": {},
   "outputs": [
    {
     "data": {
      "image/png": "[encoded data removed]",
      "text/plain": [
       "<Figure size 432x288 with 1 Axes>"
      ]
     },
     "metadata": {
      "needs_background": "light"
     },
     "output_type": "display_data"
    }
   ],
   "source": [
    "# bootstrap для медианы\n",
    "\n",
    "from math import factorial\n",
    "from statistics import median\n",
    "\n",
    "def h(t):\n",
    "    return 25 * (factorial(24)/factorial(12)/factorial(12)) * (exp(-t))**13 * (1 - exp(-t))**12\n",
    "\n",
    "X_bs = []\n",
    "for i in range(1000):\n",
    "    Xn_ = []\n",
    "    for j in range(len(Xn)):\n",
    "        Xn_.append(random.choice(Xn))\n",
    "    X_bs.append(median(Xn_))\n",
    "\n",
    "n, bins, rects = plt.hist(X_bs, bins = k1, ec='k')\n",
    "m = 0\n",
    "for r in rects:\n",
    "    r.set_height(r.get_height()/len(X_bs)/r.get_width())\n",
    "    m = max(m, r.get_height())\n",
    "plt.ylim([0, max(m, max([h(X) for X in Xn_])) + 0.25])\n",
    "\n",
    "x = np.linspace(0, 2, 1000)\n",
    "y = np.array([h(X) for X in x])\n",
    "plt.plot(x, y)\n",
    "plt.show()"
   ]
  },
  {
   "cell_type": "code",
   "execution_count": null,
   "id": "7d1cf073-d5e4-4da4-9944-b047e8722b10",
   "metadata": {},
   "outputs": [],
   "source": []
  },
  {
   "cell_type": "code",
   "execution_count": null,
   "id": "6b080df3-7b61-46f5-84a7-ec5d62ecb435",
   "metadata": {},
   "outputs": [],
   "source": []
  }
 ],
 "metadata": {
  "kernelspec": {
   "display_name": "Python 3 (ipykernel)",
   "language": "python",
   "name": "python3"
  },
  "language_info": {
   "codemirror_mode": {
    "name": "ipython",
    "version": 3
   },
   "file_extension": ".py",
   "mimetype": "text/x-python",
   "name": "python",
   "nbconvert_exporter": "python",
   "pygments_lexer": "ipython3",
   "version": "3.9.12"
  }
 },
 "nbformat": 4,
 "nbformat_minor": 5
}
