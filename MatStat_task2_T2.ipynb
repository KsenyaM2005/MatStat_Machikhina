{
 "cells": [
  {
   "cell_type": "code",
   "execution_count": 1,
   "id": "97cb885c-1e7a-44db-9fbf-c8457c8707b0",
   "metadata": {},
   "outputs": [],
   "source": [
    "import numpy as np\n",
    "from scipy.stats import t, f, norm\n",
    "from scipy import integrate"
   ]
  },
  {
   "cell_type": "code",
   "execution_count": 9,
   "id": "b7595740-b342-4e39-9549-ea46ca067134",
   "metadata": {},
   "outputs": [
    {
     "name": "stdout",
     "output_type": "stream",
     "text": [
      "R^2 = 0.8106060606060606\n"
     ]
    }
   ],
   "source": [
    "Psi = np.array([[1, 0, 0, 0, 0],\n",
    "              [1, 0, 0, 0, 0],\n",
    "              [0, 1, 0, 0, 0],\n",
    "              [0, 1, 0, 0, 0],\n",
    "              [0, 1, 0, 0, 0],\n",
    "              [0, 1, 0, 0, 0],\n",
    "              [0, 1, 0, 0, 0],\n",
    "              [0, 1, 0, 0, 0],\n",
    "              [0, 0, 1, 0, 0],\n",
    "              [0, 0, 1, 0, 0],\n",
    "              [0, 0, 1, 0, 0],\n",
    "              [0, 0, 1, 0, 0],\n",
    "              [0, 0, 1, 0, 0],\n",
    "              [0, 0, 1, 0, 0],\n",
    "              [0, 0, 1, 0, 0],\n",
    "              [0, 0, 1, 0, 0],\n",
    "              [0, 0, 1, 0, 0],\n",
    "              [0, 0, 1, 0, 0],\n",
    "              [0, 0, 1, 0, 0],\n",
    "              [0, 0, 0, 1, 0],\n",
    "              [0, 0, 0, 1, 0],\n",
    "              [0, 0, 0, 1, 0],\n",
    "              [0, 0, 0, 1, 0],\n",
    "              [0, 0, 0, 0, 1],\n",
    "              [0, 0, 0, 0, 1]], float)\n",
    "Y = np.array([83, 85, \n",
    "             84, 85, 85, 86, 86, 87,\n",
    "             86, 87, 87, 87, 88, 88, 88, 88, 88, 89, 90,\n",
    "             89, 90, 90, 91,\n",
    "             90, 92], float)\n",
    "Psi_T = Psi.transpose()\n",
    "F = np.dot(Psi_T, Psi)\n",
    "F_1 = np.linalg.inv(F)\n",
    "beta_wave = np.dot(np.dot(F_1, Psi_T), Y)\n",
    "e = Y - np.dot(Psi, beta_wave)\n",
    "rss = np.dot(e, e)\n",
    "tss = np.sum(np.array([(y-np.mean(Y))**2 for y in Y]))\n",
    "r2 = (tss - rss) / tss\n",
    "print('R^2 =', r2)"
   ]
  },
  {
   "cell_type": "code",
   "execution_count": 17,
   "id": "9c1fa832-073a-4671-af9c-32cae82f0a25",
   "metadata": {},
   "outputs": [
    {
     "name": "stdout",
     "output_type": "stream",
     "text": [
      "Отвергаем гипотезу: beta_0 и beta_4 не равны\n",
      "Отвергаем гипотезу: beta_1 и beta_3 не равны\n",
      "Отвергаем гипотезу: beta_0 и beta_3 не равны\n",
      "Отвергаем гипотезу: beta_1 и beta_4 не равны\n",
      "Отвергаем гипотезу: beta_0 и beta_2 не равны\n",
      "Отвергаем гипотезу: beta_1 и beta_2 не равны\n",
      "Отвергаем гипотезу: beta_2 и beta_4 не равны\n",
      "Отвергаем гипотезу: beta_2 и beta_3 не равны\n",
      "НЕ отвергаем гипотезу о равестве beta_0 и beta_1\n",
      "НЕ отвергаем гипотезу о равестве beta_3 и beta_4\n"
     ]
    }
   ],
   "source": [
    "# Попарное сравнение:\n",
    "n, p = len(Y), len(beta_wave)\n",
    "p_value = []\n",
    "for i in range(len(beta_wave)):\n",
    "    for j in range(i+1, len(beta_wave)):\n",
    "        delta = (beta_wave[i]-beta_wave[j]) / (rss*(F[i,i]**-1 + F[j,j]**-1))**0.5 * (n-p)**0.5\n",
    "        p_val = 2*integrate.quad(lambda x : t.pdf(x,n-p), abs(delta), np.inf)[0]\n",
    "        p_value.append([p_val, i, j])\n",
    "alpha = 0.05\n",
    "p_value.sort(key = lambda x : x[0])\n",
    "for i in range(len(p_value)):\n",
    "    k, l = p_value[i][1], p_value[i][2]\n",
    "    if p_value[i][0] < alpha / (len(p_value)-i):\n",
    "        print('Отвергаем гипотезу: beta_',k,' и beta_',l,' не равны', sep='')\n",
    "    else:\n",
    "        print('НЕ отвергаем гипотезу о равестве beta_',k,' и beta_',l,sep='')"
   ]
  },
  {
   "cell_type": "code",
   "execution_count": null,
   "id": "aefb82d7-9d3f-4155-833b-6121ad8ae002",
   "metadata": {},
   "outputs": [],
   "source": [
    "# T3"
   ]
  },
  {
   "cell_type": "code",
   "execution_count": null,
   "id": "2e352662-7b69-470b-97fd-227410da8442",
   "metadata": {},
   "outputs": [],
   "source": []
  }
 ],
 "metadata": {
  "kernelspec": {
   "display_name": "Python 3 (ipykernel)",
   "language": "python",
   "name": "python3"
  },
  "language_info": {
   "codemirror_mode": {
    "name": "ipython",
    "version": 3
   },
   "file_extension": ".py",
   "mimetype": "text/x-python",
   "name": "python",
   "nbconvert_exporter": "python",
   "pygments_lexer": "ipython3",
   "version": "3.9.12"
  }
 },
 "nbformat": 4,
 "nbformat_minor": 5
}
