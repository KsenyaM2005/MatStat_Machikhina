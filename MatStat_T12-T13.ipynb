{
 "cells": [
  {
   "cell_type": "code",
   "execution_count": 1,
   "id": "4d0a9c18-1b28-4d3f-a363-dcbfbe69cec7",
   "metadata": {},
   "outputs": [
    {
     "name": "stdout",
     "output_type": "stream",
     "text": [
      "(0.0025241297068125386, 8.120556769331434e-12)\n"
     ]
    }
   ],
   "source": [
    "# T12\n",
    "import numpy as np\n",
    "from scipy.stats import chi2\n",
    "import scipy.integrate as integrate\n",
    "\n",
    "d = 0.2 * 24 / 0.1\n",
    "p_value = integrate.quad(lambda x : chi2.pdf(x, 24), d, np.inf)\n",
    "print(p_value)"
   ]
  },
  {
   "cell_type": "code",
   "execution_count": 3,
   "id": "a24d1e7b-fd00-4e32-8e64-88934c6ff38f",
   "metadata": {},
   "outputs": [
    {
     "name": "stdout",
     "output_type": "stream",
     "text": [
      "36.406840684068406 0.05009261229413451\n",
      "36.41164116411642 0.050038295931973086\n",
      "36.41644164416442 0.04998403114635726\n",
      "36.42124212421243 0.049929817898675934\n"
     ]
    }
   ],
   "source": [
    "alpha, eps = 0.05, 0.0001\n",
    "x = np.linspace(0, d, 10000)\n",
    "y = np.array([integrate.quad(lambda x : chi2.pdf(x, 24), c, np.inf)[0] for c in x])\n",
    "for i in range(len(x)):\n",
    "    if abs(y[i] - alpha) < eps:\n",
    "        print(x[i], y[i])"
   ]
  },
  {
   "cell_type": "code",
   "execution_count": 9,
   "id": "c7dadf80-ca7e-49ef-a3e2-8e2511cb8e0e",
   "metadata": {},
   "outputs": [
    {
     "data": {
      "image/png": "[encoded data removed]",
      "text/plain": [
       "<Figure size 432x288 with 1 Axes>"
      ]
     },
     "metadata": {
      "needs_background": "light"
     },
     "output_type": "display_data"
    }
   ],
   "source": [
    "import matplotlib.pyplot as plt\n",
    "\n",
    "c = 36.42124212421243\n",
    "\n",
    "teta2 = np.linspace(0.1, 1, 1000)\n",
    "w = np.array([integrate.quad(lambda x : chi2.pdf(x, 24), c*X**2/0.1, np.inf)[0] for X in teta2])\n",
    "\n",
    "plt.plot(teta2, w, c='blue')\n",
    "plt.xlabel('teta2')\n",
    "plt.ylabel('w(teta)')\n",
    "plt.title('Зависисимость w(teta)')\n",
    "plt.show()"
   ]
  },
  {
   "cell_type": "code",
   "execution_count": null,
   "id": "d606de7f-ff9e-481a-b813-19c45e80356c",
   "metadata": {},
   "outputs": [],
   "source": [
    "# T13"
   ]
  },
  {
   "cell_type": "code",
   "execution_count": 5,
   "id": "e3b9d880-88a9-4aa7-90d4-026fc28f1fac",
   "metadata": {},
   "outputs": [
    {
     "name": "stdout",
     "output_type": "stream",
     "text": [
      "0.17654821093833442\n",
      "0.8234517890616658\n",
      "0.35309642187666884\n"
     ]
    }
   ],
   "source": [
    "from math import exp\n",
    "\n",
    "def N(C,D):\n",
    "    def f(x):\n",
    "        return 1/(2*np.pi)**0.5 * exp((-x**2)/2)\n",
    "    res = integrate.quad(f, C, D)\n",
    "    return res[0]\n",
    "\n",
    "d = 0.9286\n",
    "print(N(d,np.inf))\n",
    "print(N(-np.inf,d))\n",
    "print(2 * N(d,np.inf))"
   ]
  },
  {
   "cell_type": "code",
   "execution_count": null,
   "id": "21d9fc6d-6011-4907-8402-dceffab98dcd",
   "metadata": {},
   "outputs": [],
   "source": []
  }
 ],
 "metadata": {
  "kernelspec": {
   "display_name": "Python 3 (ipykernel)",
   "language": "python",
   "name": "python3"
  },
  "language_info": {
   "codemirror_mode": {
    "name": "ipython",
    "version": 3
   },
   "file_extension": ".py",
   "mimetype": "text/x-python",
   "name": "python",
   "nbconvert_exporter": "python",
   "pygments_lexer": "ipython3",
   "version": "3.9.12"
  }
 },
 "nbformat": 4,
 "nbformat_minor": 5
}
